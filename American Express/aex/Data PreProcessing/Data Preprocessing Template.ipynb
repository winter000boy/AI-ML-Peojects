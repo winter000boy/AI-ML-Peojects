{
 "cells": [
  {
   "cell_type": "markdown",
   "metadata": {
    "id": "iIDXUkMElkDd"
   },
   "source": [
    "# Data Preprocessing"
   ]
  },
  {
   "cell_type": "markdown",
   "metadata": {
    "id": "Hj40LjUilpix"
   },
   "source": [
    "## Importing the libraries"
   ]
  },
  {
   "cell_type": "code",
   "execution_count": 1,
   "metadata": {},
   "outputs": [],
   "source": [
    "import pandas as pd\n",
    "import numpy as np\n",
    "import matplotlib.pyplot as plt"
   ]
  },
  {
   "cell_type": "markdown",
   "metadata": {
    "id": "XaG0s7WjmgPU"
   },
   "source": [
    "\n",
    "\n",
    "\n",
    "## Handling Missing Data"
   ]
  },
  {
   "cell_type": "code",
   "execution_count": 9,
   "metadata": {},
   "outputs": [
    {
     "data": {
      "text/plain": [
       "array([[  6],\n",
       "       [  8],\n",
       "       [  9],\n",
       "       [ 11],\n",
       "       [ 13],\n",
       "       [ 16],\n",
       "       [ 16],\n",
       "       [ 18],\n",
       "       [ 20],\n",
       "       [ 24],\n",
       "       [ 25],\n",
       "       [ 25],\n",
       "       [ 25],\n",
       "       [ 26],\n",
       "       [ 26],\n",
       "       [ 26],\n",
       "       [ 26],\n",
       "       [ 26],\n",
       "       [ 26],\n",
       "       [ 26],\n",
       "       [ 26],\n",
       "       [ 26],\n",
       "       [ 26],\n",
       "       [ 27],\n",
       "       [ 27],\n",
       "       [ 27],\n",
       "       [ 27],\n",
       "       [ 27],\n",
       "       [ 28],\n",
       "       [ 28],\n",
       "       [ 30],\n",
       "       [ 30],\n",
       "       [ 31],\n",
       "       [ 36],\n",
       "       [ 41],\n",
       "       [ 47],\n",
       "       [ 51],\n",
       "       [ 57],\n",
       "       [ 61],\n",
       "       [ 66],\n",
       "       [ 73],\n",
       "       [ 76],\n",
       "       [ 80],\n",
       "       [ 84],\n",
       "       [ 93],\n",
       "       [ 94],\n",
       "       [ 99],\n",
       "       [102],\n",
       "       [105],\n",
       "       [111],\n",
       "       [113],\n",
       "       [120],\n",
       "       [133],\n",
       "       [137],\n",
       "       [143],\n",
       "       [146],\n",
       "       [150],\n",
       "       [154],\n",
       "       [161],\n",
       "       [163],\n",
       "       [168],\n",
       "       [169],\n",
       "       [171],\n",
       "       [174],\n",
       "       [175],\n",
       "       [176],\n",
       "       [176],\n",
       "       [176],\n",
       "       [177],\n",
       "       [179],\n",
       "       [179],\n",
       "       [180],\n",
       "       [180],\n",
       "       [180],\n",
       "       [182],\n",
       "       [183],\n",
       "       [183],\n",
       "       [183],\n",
       "       [183],\n",
       "       [184],\n",
       "       [184],\n",
       "       [184],\n",
       "       [184],\n",
       "       [184],\n",
       "       [184],\n",
       "       [184],\n",
       "       [184],\n",
       "       [184],\n",
       "       [184],\n",
       "       [184],\n",
       "       [184],\n",
       "       [184],\n",
       "       [184],\n",
       "       [184],\n",
       "       [184],\n",
       "       [184],\n",
       "       [184],\n",
       "       [184],\n",
       "       [184],\n",
       "       [186],\n",
       "       [186],\n",
       "       [186],\n",
       "       [186],\n",
       "       [186],\n",
       "       [186],\n",
       "       [186],\n",
       "       [186],\n",
       "       [186],\n",
       "       [186],\n",
       "       [186],\n",
       "       [186],\n",
       "       [186],\n",
       "       [187],\n",
       "       [187],\n",
       "       [187],\n",
       "       [187],\n",
       "       [187],\n",
       "       [187],\n",
       "       [187],\n",
       "       [187],\n",
       "       [187],\n",
       "       [187],\n",
       "       [187],\n",
       "       [187],\n",
       "       [187],\n",
       "       [187],\n",
       "       [187],\n",
       "       [187],\n",
       "       [187],\n",
       "       [187],\n",
       "       [187],\n",
       "       [187],\n",
       "       [187],\n",
       "       [187],\n",
       "       [187],\n",
       "       [187],\n",
       "       [187],\n",
       "       [187],\n",
       "       [187],\n",
       "       [187],\n",
       "       [187],\n",
       "       [187],\n",
       "       [187],\n",
       "       [187],\n",
       "       [187],\n",
       "       [187],\n",
       "       [187],\n",
       "       [187],\n",
       "       [187],\n",
       "       [187],\n",
       "       [187],\n",
       "       [187],\n",
       "       [187],\n",
       "       [187],\n",
       "       [187],\n",
       "       [187],\n",
       "       [187],\n",
       "       [187],\n",
       "       [187],\n",
       "       [187],\n",
       "       [187],\n",
       "       [187],\n",
       "       [187],\n",
       "       [187],\n",
       "       [187],\n",
       "       [187],\n",
       "       [187],\n",
       "       [187],\n",
       "       [187],\n",
       "       [187],\n",
       "       [187],\n",
       "       [187],\n",
       "       [187],\n",
       "       [187],\n",
       "       [187],\n",
       "       [187],\n",
       "       [187],\n",
       "       [187],\n",
       "       [187],\n",
       "       [187],\n",
       "       [187],\n",
       "       [187],\n",
       "       [187],\n",
       "       [187],\n",
       "       [187],\n",
       "       [187],\n",
       "       [187],\n",
       "       [187]])"
      ]
     },
     "execution_count": 9,
     "metadata": {},
     "output_type": "execute_result"
    }
   ],
   "source": [
    "data = pd.read_csv('day_wise.csv')\n",
    "x = data.iloc[ : , -1:].values\n",
    "# iloc[rows, coloms]  start : end (excluding end)\n",
    "data.head()\n",
    "x\n"
   ]
  },
  {
   "cell_type": "markdown",
   "metadata": {
    "id": "zApSnwUkl9eD"
   },
   "source": [
    "## Importing Dataset"
   ]
  },
  {
   "cell_type": "markdown",
   "metadata": {
    "id": "o0syRbsSmkoe"
   },
   "source": [
    "## Encoding Categorical Data"
   ]
  },
  {
   "cell_type": "markdown",
   "metadata": {
    "id": "alHfpomamsVr"
   },
   "source": [
    "### Encoding independent variables"
   ]
  },
  {
   "cell_type": "markdown",
   "metadata": {
    "id": "VEJCi9Fgmz-n"
   },
   "source": [
    "### Encoding dependent variables"
   ]
  },
  {
   "cell_type": "markdown",
   "metadata": {
    "id": "Bfz9vcDsm7r6"
   },
   "source": [
    "## Splitting data into Test set & Training Set\n"
   ]
  },
  {
   "cell_type": "markdown",
   "metadata": {
    "id": "a5uoHf8MsQG0"
   },
   "source": [
    "## Feature Scaling"
   ]
  }
 ],
 "metadata": {
  "colab": {
   "authorship_tag": "ABX9TyMojhScvfhNEf0PB0SFUBgo",
   "name": "Data Preprocessing Template.ipynb",
   "provenance": [],
   "toc_visible": true
  },
  "kernelspec": {
   "display_name": "Python 3 (ipykernel)",
   "language": "python",
   "name": "python3"
  },
  "language_info": {
   "codemirror_mode": {
    "name": "ipython",
    "version": 3
   },
   "file_extension": ".py",
   "mimetype": "text/x-python",
   "name": "python",
   "nbconvert_exporter": "python",
   "pygments_lexer": "ipython3",
   "version": "3.11.9"
  }
 },
 "nbformat": 4,
 "nbformat_minor": 4
}
